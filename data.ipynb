{
 "cells": [
  {
   "cell_type": "markdown",
   "metadata": {},
   "source": [
    "# The Real time Sentiment Analysis model Design by -- Vishwam Solanki"
   ]
  },
  {
   "cell_type": "code",
   "execution_count": 224,
   "metadata": {},
   "outputs": [],
   "source": [
    "import pandas as pd\n",
    "import numpy as np\n",
    "from sklearn.metrics import accuracy_score, f1_score, precision_score, recall_score, classification_report, confusion_matrix"
   ]
  },
  {
   "cell_type": "markdown",
   "metadata": {},
   "source": [
    " Import the Data.csv "
   ]
  },
  {
   "cell_type": "code",
   "execution_count": 65,
   "metadata": {},
   "outputs": [
    {
     "data": {
      "text/html": [
       "<div>\n",
       "<style scoped>\n",
       "    .dataframe tbody tr th:only-of-type {\n",
       "        vertical-align: middle;\n",
       "    }\n",
       "\n",
       "    .dataframe tbody tr th {\n",
       "        vertical-align: top;\n",
       "    }\n",
       "\n",
       "    .dataframe thead th {\n",
       "        text-align: right;\n",
       "    }\n",
       "</style>\n",
       "<table border=\"1\" class=\"dataframe\">\n",
       "  <thead>\n",
       "    <tr style=\"text-align: right;\">\n",
       "      <th></th>\n",
       "      <th>_id</th>\n",
       "      <th>author</th>\n",
       "      <th>content</th>\n",
       "      <th>description</th>\n",
       "      <th>publishedAt</th>\n",
       "      <th>source.id</th>\n",
       "      <th>source.name</th>\n",
       "      <th>title</th>\n",
       "      <th>url</th>\n",
       "      <th>urlToImage</th>\n",
       "    </tr>\n",
       "  </thead>\n",
       "  <tbody>\n",
       "    <tr>\n",
       "      <th>0</th>\n",
       "      <td>6471ac4e0508754a06eb0477</td>\n",
       "      <td>Daniel Gilbert, Faiz Siddiqui</td>\n",
       "      <td>Comment on this story\\r\\nComment\\r\\nNeuralink,...</td>\n",
       "      <td>Neuralink said it has regulatory approval to c...</td>\n",
       "      <td>2023-05-26T03:59:10Z</td>\n",
       "      <td>the-washington-post</td>\n",
       "      <td>The Washington Post</td>\n",
       "      <td>Elon Musk's Neuralink says it has FDA approval...</td>\n",
       "      <td>https://www.washingtonpost.com/business/2023/0...</td>\n",
       "      <td>https://www.washingtonpost.com/wp-apps/imrs.ph...</td>\n",
       "    </tr>\n",
       "    <tr>\n",
       "      <th>1</th>\n",
       "      <td>6471ac4e0508754a06eb0478</td>\n",
       "      <td>Jay King, Jared Weiss, Joe Vardon</td>\n",
       "      <td>BOSTON From a series sweep to a serious series...</td>\n",
       "      <td>Derrick White, who opened the conference final...</td>\n",
       "      <td>2023-05-26T03:46:26Z</td>\n",
       "      <td>NaN</td>\n",
       "      <td>The Athletic</td>\n",
       "      <td>Celtics trounce Heat in Game 5 of Eastern Conf...</td>\n",
       "      <td>https://theathletic.com/4554029/2023/05/25/cel...</td>\n",
       "      <td>https://cdn.theathletic.com/app/uploads/2023/0...</td>\n",
       "    </tr>\n",
       "    <tr>\n",
       "      <th>2</th>\n",
       "      <td>6471ac4e0508754a06eb0479</td>\n",
       "      <td>NaN</td>\n",
       "      <td>NaN</td>\n",
       "      <td>Jason Robertson had a pair of goals and Joe Pa...</td>\n",
       "      <td>2023-05-26T03:21:08Z</td>\n",
       "      <td>NaN</td>\n",
       "      <td>YouTube</td>\n",
       "      <td>NHL Western Conference Final Game 4 Highlights...</td>\n",
       "      <td>https://www.youtube.com/watch?v=Os7zLvqG4mc</td>\n",
       "      <td>https://i.ytimg.com/vi/Os7zLvqG4mc/maxresdefau...</td>\n",
       "    </tr>\n",
       "    <tr>\n",
       "      <th>3</th>\n",
       "      <td>6471ac4e0508754a06eb047a</td>\n",
       "      <td>Al Jazeera</td>\n",
       "      <td>Killer whales severely damaged a sailing boat ...</td>\n",
       "      <td>Dozens of incidents involving groups of orcas ...</td>\n",
       "      <td>2023-05-26T03:07:10Z</td>\n",
       "      <td>al-jazeera-english</td>\n",
       "      <td>Al Jazeera English</td>\n",
       "      <td>Killer whales damage boat in latest orca incid...</td>\n",
       "      <td>https://www.aljazeera.com/news/2023/5/26/kille...</td>\n",
       "      <td>https://www.aljazeera.com/wp-content/uploads/2...</td>\n",
       "    </tr>\n",
       "    <tr>\n",
       "      <th>4</th>\n",
       "      <td>6471ac4e0508754a06eb047b</td>\n",
       "      <td>NaN</td>\n",
       "      <td>WASHINGTON, May 25 (Reuters) - The founder of ...</td>\n",
       "      <td>The founder of the far-right militant Oath Kee...</td>\n",
       "      <td>2023-05-26T03:05:00Z</td>\n",
       "      <td>reuters</td>\n",
       "      <td>Reuters</td>\n",
       "      <td>Oath Keepers founder gets 18 years in prison, ...</td>\n",
       "      <td>https://www.reuters.com/legal/oath-keepers-fou...</td>\n",
       "      <td>https://www.reuters.com/resizer/gYepgBSexMj5m2...</td>\n",
       "    </tr>\n",
       "    <tr>\n",
       "      <th>5</th>\n",
       "      <td>6471ac4e0508754a06eb047c</td>\n",
       "      <td>James Politi, Lauren Fedor</td>\n",
       "      <td>What is included in my trial?\\r\\nDuring your t...</td>\n",
       "      <td>News, analysis and comment from the Financial ...</td>\n",
       "      <td>2023-05-26T02:03:45Z</td>\n",
       "      <td>financial-times</td>\n",
       "      <td>Financial Times</td>\n",
       "      <td>US debt ceiling talks progress as deadline app...</td>\n",
       "      <td>https://www.ft.com/content/3ffeea42-d5ed-45d9-...</td>\n",
       "      <td>NaN</td>\n",
       "    </tr>\n",
       "    <tr>\n",
       "      <th>6</th>\n",
       "      <td>6471ac4e0508754a06eb047d</td>\n",
       "      <td>Alex Ford, María Méndez</td>\n",
       "      <td>Sign up for The Brief, The Texas Tribunes dail...</td>\n",
       "      <td>The Texas Legislature has never removed an att...</td>\n",
       "      <td>2023-05-26T01:49:08Z</td>\n",
       "      <td>NaN</td>\n",
       "      <td>The Texas Tribune</td>\n",
       "      <td>Attorney General Ken Paxton faces impeachment:...</td>\n",
       "      <td>https://www.texastribune.org/2023/05/25/texas-...</td>\n",
       "      <td>https://thumbnails.texastribune.org/qmEBN3yzu7...</td>\n",
       "    </tr>\n",
       "    <tr>\n",
       "      <th>7</th>\n",
       "      <td>6471ac4e0508754a06eb047e</td>\n",
       "      <td>LAURAN NEERGAARD AP Medical Writer</td>\n",
       "      <td>WASHINGTON -- About 10% of people appear to su...</td>\n",
       "      <td>A U.S. study suggests 1 in 10 people are getti...</td>\n",
       "      <td>2023-05-26T01:42:30Z</td>\n",
       "      <td>abc-news</td>\n",
       "      <td>ABC News</td>\n",
       "      <td>US study finds 1 in 10 get long COVID after om...</td>\n",
       "      <td>https://abcnews.go.com/Health/wireStory/us-stu...</td>\n",
       "      <td>https://s.abcnews.com/images/Health/wirestory_...</td>\n",
       "    </tr>\n",
       "    <tr>\n",
       "      <th>8</th>\n",
       "      <td>6471ac4e0508754a06eb047f</td>\n",
       "      <td>Investor's Business Daily</td>\n",
       "      <td>NaN</td>\n",
       "      <td>NaN</td>\n",
       "      <td>2023-05-26T00:43:00Z</td>\n",
       "      <td>NaN</td>\n",
       "      <td>Investor's Business Daily</td>\n",
       "      <td>Futures Fall: Nvidia, AI Plays Soar, But This ...</td>\n",
       "      <td>https://www.investors.com/market-trend/stock-m...</td>\n",
       "      <td>NaN</td>\n",
       "    </tr>\n",
       "    <tr>\n",
       "      <th>9</th>\n",
       "      <td>6471ac4e0508754a06eb0480</td>\n",
       "      <td>Pete Hammond</td>\n",
       "      <td>amFAR, the organization founded by the late Dr...</td>\n",
       "      <td>amFAR, the organization founded by the late Dr...</td>\n",
       "      <td>2023-05-26T00:28:00Z</td>\n",
       "      <td>NaN</td>\n",
       "      <td>Deadline</td>\n",
       "      <td>amFAR Cannes Gala: DiCaprio Painting Fetches $...</td>\n",
       "      <td>https://deadline.com/2023/05/amfar-cannes-gala...</td>\n",
       "      <td>https://deadline.com/wp-content/uploads/2023/0...</td>\n",
       "    </tr>\n",
       "  </tbody>\n",
       "</table>\n",
       "</div>"
      ],
      "text/plain": [
       "                        _id                              author  \\\n",
       "0  6471ac4e0508754a06eb0477       Daniel Gilbert, Faiz Siddiqui   \n",
       "1  6471ac4e0508754a06eb0478   Jay King, Jared Weiss, Joe Vardon   \n",
       "2  6471ac4e0508754a06eb0479                                 NaN   \n",
       "3  6471ac4e0508754a06eb047a                          Al Jazeera   \n",
       "4  6471ac4e0508754a06eb047b                                 NaN   \n",
       "5  6471ac4e0508754a06eb047c          James Politi, Lauren Fedor   \n",
       "6  6471ac4e0508754a06eb047d             Alex Ford, María Méndez   \n",
       "7  6471ac4e0508754a06eb047e  LAURAN NEERGAARD AP Medical Writer   \n",
       "8  6471ac4e0508754a06eb047f           Investor's Business Daily   \n",
       "9  6471ac4e0508754a06eb0480                        Pete Hammond   \n",
       "\n",
       "                                             content  \\\n",
       "0  Comment on this story\\r\\nComment\\r\\nNeuralink,...   \n",
       "1  BOSTON From a series sweep to a serious series...   \n",
       "2                                                NaN   \n",
       "3  Killer whales severely damaged a sailing boat ...   \n",
       "4  WASHINGTON, May 25 (Reuters) - The founder of ...   \n",
       "5  What is included in my trial?\\r\\nDuring your t...   \n",
       "6  Sign up for The Brief, The Texas Tribunes dail...   \n",
       "7  WASHINGTON -- About 10% of people appear to su...   \n",
       "8                                                NaN   \n",
       "9  amFAR, the organization founded by the late Dr...   \n",
       "\n",
       "                                         description           publishedAt  \\\n",
       "0  Neuralink said it has regulatory approval to c...  2023-05-26T03:59:10Z   \n",
       "1  Derrick White, who opened the conference final...  2023-05-26T03:46:26Z   \n",
       "2  Jason Robertson had a pair of goals and Joe Pa...  2023-05-26T03:21:08Z   \n",
       "3  Dozens of incidents involving groups of orcas ...  2023-05-26T03:07:10Z   \n",
       "4  The founder of the far-right militant Oath Kee...  2023-05-26T03:05:00Z   \n",
       "5  News, analysis and comment from the Financial ...  2023-05-26T02:03:45Z   \n",
       "6  The Texas Legislature has never removed an att...  2023-05-26T01:49:08Z   \n",
       "7  A U.S. study suggests 1 in 10 people are getti...  2023-05-26T01:42:30Z   \n",
       "8                                                NaN  2023-05-26T00:43:00Z   \n",
       "9  amFAR, the organization founded by the late Dr...  2023-05-26T00:28:00Z   \n",
       "\n",
       "             source.id                source.name  \\\n",
       "0  the-washington-post        The Washington Post   \n",
       "1                  NaN               The Athletic   \n",
       "2                  NaN                    YouTube   \n",
       "3   al-jazeera-english         Al Jazeera English   \n",
       "4              reuters                    Reuters   \n",
       "5      financial-times            Financial Times   \n",
       "6                  NaN          The Texas Tribune   \n",
       "7             abc-news                   ABC News   \n",
       "8                  NaN  Investor's Business Daily   \n",
       "9                  NaN                   Deadline   \n",
       "\n",
       "                                               title  \\\n",
       "0  Elon Musk's Neuralink says it has FDA approval...   \n",
       "1  Celtics trounce Heat in Game 5 of Eastern Conf...   \n",
       "2  NHL Western Conference Final Game 4 Highlights...   \n",
       "3  Killer whales damage boat in latest orca incid...   \n",
       "4  Oath Keepers founder gets 18 years in prison, ...   \n",
       "5  US debt ceiling talks progress as deadline app...   \n",
       "6  Attorney General Ken Paxton faces impeachment:...   \n",
       "7  US study finds 1 in 10 get long COVID after om...   \n",
       "8  Futures Fall: Nvidia, AI Plays Soar, But This ...   \n",
       "9  amFAR Cannes Gala: DiCaprio Painting Fetches $...   \n",
       "\n",
       "                                                 url  \\\n",
       "0  https://www.washingtonpost.com/business/2023/0...   \n",
       "1  https://theathletic.com/4554029/2023/05/25/cel...   \n",
       "2        https://www.youtube.com/watch?v=Os7zLvqG4mc   \n",
       "3  https://www.aljazeera.com/news/2023/5/26/kille...   \n",
       "4  https://www.reuters.com/legal/oath-keepers-fou...   \n",
       "5  https://www.ft.com/content/3ffeea42-d5ed-45d9-...   \n",
       "6  https://www.texastribune.org/2023/05/25/texas-...   \n",
       "7  https://abcnews.go.com/Health/wireStory/us-stu...   \n",
       "8  https://www.investors.com/market-trend/stock-m...   \n",
       "9  https://deadline.com/2023/05/amfar-cannes-gala...   \n",
       "\n",
       "                                          urlToImage  \n",
       "0  https://www.washingtonpost.com/wp-apps/imrs.ph...  \n",
       "1  https://cdn.theathletic.com/app/uploads/2023/0...  \n",
       "2  https://i.ytimg.com/vi/Os7zLvqG4mc/maxresdefau...  \n",
       "3  https://www.aljazeera.com/wp-content/uploads/2...  \n",
       "4  https://www.reuters.com/resizer/gYepgBSexMj5m2...  \n",
       "5                                                NaN  \n",
       "6  https://thumbnails.texastribune.org/qmEBN3yzu7...  \n",
       "7  https://s.abcnews.com/images/Health/wirestory_...  \n",
       "8                                                NaN  \n",
       "9  https://deadline.com/wp-content/uploads/2023/0...  "
      ]
     },
     "execution_count": 65,
     "metadata": {},
     "output_type": "execute_result"
    }
   ],
   "source": [
    "df = pd.read_csv(\"Static-data.csv\")\n",
    "df[:10]"
   ]
  },
  {
   "cell_type": "code",
   "execution_count": 66,
   "metadata": {},
   "outputs": [
    {
     "name": "stdout",
     "output_type": "stream",
     "text": [
      "<class 'pandas.core.frame.DataFrame'>\n",
      "RangeIndex: 180 entries, 0 to 179\n",
      "Data columns (total 10 columns):\n",
      " #   Column       Non-Null Count  Dtype \n",
      "---  ------       --------------  ----- \n",
      " 0   _id          180 non-null    object\n",
      " 1   author       149 non-null    object\n",
      " 2   content      160 non-null    object\n",
      " 3   description  171 non-null    object\n",
      " 4   publishedAt  180 non-null    object\n",
      " 5   source.id    120 non-null    object\n",
      " 6   source.name  180 non-null    object\n",
      " 7   title        180 non-null    object\n",
      " 8   url          180 non-null    object\n",
      " 9   urlToImage   170 non-null    object\n",
      "dtypes: object(10)\n",
      "memory usage: 14.2+ KB\n"
     ]
    }
   ],
   "source": [
    "df.info()"
   ]
  },
  {
   "cell_type": "code",
   "execution_count": 67,
   "metadata": {},
   "outputs": [
    {
     "data": {
      "text/plain": [
       "<bound method NDFrame.describe of                           _id                              author  \\\n",
       "0    6471ac4e0508754a06eb0477       Daniel Gilbert, Faiz Siddiqui   \n",
       "1    6471ac4e0508754a06eb0478   Jay King, Jared Weiss, Joe Vardon   \n",
       "2    6471ac4e0508754a06eb0479                                 NaN   \n",
       "3    6471ac4e0508754a06eb047a                          Al Jazeera   \n",
       "4    6471ac4e0508754a06eb047b                                 NaN   \n",
       "..                        ...                                 ...   \n",
       "175  647209b68bafdeb2a83021ee                       Kevin Robbins   \n",
       "176  647209b68bafdeb2a83021ef                          Al Jazeera   \n",
       "177  647209b68bafdeb2a83021f0                        Bevan Hurley   \n",
       "178  647209b68bafdeb2a83021f1  LAURAN NEERGAARD AP Medical Writer   \n",
       "179  647209b68bafdeb2a83021f2              University of Nebraska   \n",
       "\n",
       "                                               content  \\\n",
       "0    Comment on this story\\r\\nComment\\r\\nNeuralink,...   \n",
       "1    BOSTON From a series sweep to a serious series...   \n",
       "2                                                  NaN   \n",
       "3    Killer whales severely damaged a sailing boat ...   \n",
       "4    WASHINGTON, May 25 (Reuters) - The founder of ...   \n",
       "..                                                 ...   \n",
       "175  Day includes heroic par from bridge on par-4 1...   \n",
       "176  United States regulators have given approval f...   \n",
       "177  Sign up to Roisin OConnors free weekly newslet...   \n",
       "178  WASHINGTON -- About 10% of people appear to su...   \n",
       "179  Nebraska suffered a 2-1 defeat in 10 innings t...   \n",
       "\n",
       "                                           description           publishedAt  \\\n",
       "0    Neuralink said it has regulatory approval to c...  2023-05-26T03:59:10Z   \n",
       "1    Derrick White, who opened the conference final...  2023-05-26T03:46:26Z   \n",
       "2    Jason Robertson had a pair of goals and Joe Pa...  2023-05-26T03:21:08Z   \n",
       "3    Dozens of incidents involving groups of orcas ...  2023-05-26T03:07:10Z   \n",
       "4    The founder of the far-right militant Oath Kee...  2023-05-26T03:05:00Z   \n",
       "..                                                 ...                   ...   \n",
       "175  Day includes heroic par from bridge on par-4 1...  2023-05-26T06:52:04Z   \n",
       "176  Neuralink cleared by US FDA to study implant a...  2023-05-26T06:44:12Z   \n",
       "177                           Tina Turner dies aged 83  2023-05-26T06:02:17Z   \n",
       "178  A U.S. study suggests 1 in 10 people are getti...  2023-05-26T05:43:59Z   \n",
       "179  Nebraska suffered a 2-1 defeat in extra inning...  2023-05-26T05:42:14Z   \n",
       "\n",
       "               source.id          source.name  \\\n",
       "0    the-washington-post  The Washington Post   \n",
       "1                    NaN         The Athletic   \n",
       "2                    NaN              YouTube   \n",
       "3     al-jazeera-english   Al Jazeera English   \n",
       "4                reuters              Reuters   \n",
       "..                   ...                  ...   \n",
       "175                  NaN          pgatour.com   \n",
       "176   al-jazeera-english   Al Jazeera English   \n",
       "177          independent          Independent   \n",
       "178             abc-news             ABC News   \n",
       "179                  NaN          Huskers.com   \n",
       "\n",
       "                                                 title  \\\n",
       "0    Elon Musk's Neuralink says it has FDA approval...   \n",
       "1    Celtics trounce Heat in Game 5 of Eastern Conf...   \n",
       "2    NHL Western Conference Final Game 4 Highlights...   \n",
       "3    Killer whales damage boat in latest orca incid...   \n",
       "4    Oath Keepers founder gets 18 years in prison, ...   \n",
       "..                                                 ...   \n",
       "175  Michael Block still grateful after opening-rou...   \n",
       "176  Elon Musk’s Neuralink brain implant firm clear...   \n",
       "177  Tina Turner death – latest: Legendary singer's...   \n",
       "178  US study finds 1 in 10 get long COVID after om...   \n",
       "179  Huskers Suffer Extra-Inning Setback - Universi...   \n",
       "\n",
       "                                                   url  \\\n",
       "0    https://www.washingtonpost.com/business/2023/0...   \n",
       "1    https://theathletic.com/4554029/2023/05/25/cel...   \n",
       "2          https://www.youtube.com/watch?v=Os7zLvqG4mc   \n",
       "3    https://www.aljazeera.com/news/2023/5/26/kille...   \n",
       "4    https://www.reuters.com/legal/oath-keepers-fou...   \n",
       "..                                                 ...   \n",
       "175  https://www.pgatour.com/article/news/latest/20...   \n",
       "176  https://www.aljazeera.com/news/2023/5/26/elon-...   \n",
       "177  https://www.independent.co.uk/arts-entertainme...   \n",
       "178  https://abcnews.go.com/Health/wireStory/us-stu...   \n",
       "179  https://huskers.com/news/2023/5/26/baseball-hu...   \n",
       "\n",
       "                                            urlToImage  \n",
       "0    https://www.washingtonpost.com/wp-apps/imrs.ph...  \n",
       "1    https://cdn.theathletic.com/app/uploads/2023/0...  \n",
       "2    https://i.ytimg.com/vi/Os7zLvqG4mc/maxresdefau...  \n",
       "3    https://www.aljazeera.com/wp-content/uploads/2...  \n",
       "4    https://www.reuters.com/resizer/gYepgBSexMj5m2...  \n",
       "..                                                 ...  \n",
       "175  https://res.cloudinary.com/pgatour-prod/w_1200...  \n",
       "176  https://www.aljazeera.com/wp-content/uploads/2...  \n",
       "177  https://static.independent.co.uk/2023/05/24/21...  \n",
       "178  https://s.abcnews.com/images/Health/wirestory_...  \n",
       "179  https://dohz8k90z3boq.cloudfront.net/images/20...  \n",
       "\n",
       "[180 rows x 10 columns]>"
      ]
     },
     "execution_count": 67,
     "metadata": {},
     "output_type": "execute_result"
    }
   ],
   "source": [
    "df.describe"
   ]
  },
  {
   "cell_type": "code",
   "execution_count": 68,
   "metadata": {},
   "outputs": [
    {
     "data": {
      "text/plain": [
       "(180, 10)"
      ]
     },
     "execution_count": 68,
     "metadata": {},
     "output_type": "execute_result"
    }
   ],
   "source": [
    "df.shape"
   ]
  },
  {
   "cell_type": "markdown",
   "metadata": {},
   "source": [
    "### data PreProcessing"
   ]
  },
  {
   "cell_type": "markdown",
   "metadata": {},
   "source": [
    "Removing The Null Value"
   ]
  },
  {
   "cell_type": "code",
   "execution_count": 69,
   "metadata": {},
   "outputs": [
    {
     "data": {
      "text/plain": [
       "_id             0\n",
       "author         31\n",
       "content        20\n",
       "description     9\n",
       "publishedAt     0\n",
       "source.id      60\n",
       "source.name     0\n",
       "title           0\n",
       "url             0\n",
       "urlToImage     10\n",
       "dtype: int64"
      ]
     },
     "execution_count": 69,
     "metadata": {},
     "output_type": "execute_result"
    }
   ],
   "source": [
    "df.isnull().sum()"
   ]
  },
  {
   "cell_type": "code",
   "execution_count": 70,
   "metadata": {},
   "outputs": [],
   "source": [
    "df1 = df.pop('urlToImage')"
   ]
  },
  {
   "cell_type": "code",
   "execution_count": 71,
   "metadata": {},
   "outputs": [
    {
     "data": {
      "text/plain": [
       "0      https://www.washingtonpost.com/wp-apps/imrs.ph...\n",
       "1      https://cdn.theathletic.com/app/uploads/2023/0...\n",
       "2      https://i.ytimg.com/vi/Os7zLvqG4mc/maxresdefau...\n",
       "3      https://www.aljazeera.com/wp-content/uploads/2...\n",
       "4      https://www.reuters.com/resizer/gYepgBSexMj5m2...\n",
       "                             ...                        \n",
       "175    https://res.cloudinary.com/pgatour-prod/w_1200...\n",
       "176    https://www.aljazeera.com/wp-content/uploads/2...\n",
       "177    https://static.independent.co.uk/2023/05/24/21...\n",
       "178    https://s.abcnews.com/images/Health/wirestory_...\n",
       "179    https://dohz8k90z3boq.cloudfront.net/images/20...\n",
       "Name: urlToImage, Length: 180, dtype: object"
      ]
     },
     "execution_count": 71,
     "metadata": {},
     "output_type": "execute_result"
    }
   ],
   "source": [
    "df1"
   ]
  },
  {
   "cell_type": "code",
   "execution_count": 72,
   "metadata": {},
   "outputs": [
    {
     "data": {
      "text/html": [
       "<div>\n",
       "<style scoped>\n",
       "    .dataframe tbody tr th:only-of-type {\n",
       "        vertical-align: middle;\n",
       "    }\n",
       "\n",
       "    .dataframe tbody tr th {\n",
       "        vertical-align: top;\n",
       "    }\n",
       "\n",
       "    .dataframe thead th {\n",
       "        text-align: right;\n",
       "    }\n",
       "</style>\n",
       "<table border=\"1\" class=\"dataframe\">\n",
       "  <thead>\n",
       "    <tr style=\"text-align: right;\">\n",
       "      <th></th>\n",
       "      <th>_id</th>\n",
       "      <th>author</th>\n",
       "      <th>content</th>\n",
       "      <th>description</th>\n",
       "      <th>publishedAt</th>\n",
       "      <th>source.id</th>\n",
       "      <th>source.name</th>\n",
       "      <th>title</th>\n",
       "      <th>url</th>\n",
       "    </tr>\n",
       "  </thead>\n",
       "  <tbody>\n",
       "    <tr>\n",
       "      <th>0</th>\n",
       "      <td>6471ac4e0508754a06eb0477</td>\n",
       "      <td>Daniel Gilbert, Faiz Siddiqui</td>\n",
       "      <td>Comment on this story\\r\\nComment\\r\\nNeuralink,...</td>\n",
       "      <td>Neuralink said it has regulatory approval to c...</td>\n",
       "      <td>2023-05-26T03:59:10Z</td>\n",
       "      <td>the-washington-post</td>\n",
       "      <td>The Washington Post</td>\n",
       "      <td>Elon Musk's Neuralink says it has FDA approval...</td>\n",
       "      <td>https://www.washingtonpost.com/business/2023/0...</td>\n",
       "    </tr>\n",
       "    <tr>\n",
       "      <th>1</th>\n",
       "      <td>6471ac4e0508754a06eb0478</td>\n",
       "      <td>Jay King, Jared Weiss, Joe Vardon</td>\n",
       "      <td>BOSTON From a series sweep to a serious series...</td>\n",
       "      <td>Derrick White, who opened the conference final...</td>\n",
       "      <td>2023-05-26T03:46:26Z</td>\n",
       "      <td>NaN</td>\n",
       "      <td>The Athletic</td>\n",
       "      <td>Celtics trounce Heat in Game 5 of Eastern Conf...</td>\n",
       "      <td>https://theathletic.com/4554029/2023/05/25/cel...</td>\n",
       "    </tr>\n",
       "    <tr>\n",
       "      <th>2</th>\n",
       "      <td>6471ac4e0508754a06eb0479</td>\n",
       "      <td>NaN</td>\n",
       "      <td>NaN</td>\n",
       "      <td>Jason Robertson had a pair of goals and Joe Pa...</td>\n",
       "      <td>2023-05-26T03:21:08Z</td>\n",
       "      <td>NaN</td>\n",
       "      <td>YouTube</td>\n",
       "      <td>NHL Western Conference Final Game 4 Highlights...</td>\n",
       "      <td>https://www.youtube.com/watch?v=Os7zLvqG4mc</td>\n",
       "    </tr>\n",
       "    <tr>\n",
       "      <th>3</th>\n",
       "      <td>6471ac4e0508754a06eb047a</td>\n",
       "      <td>Al Jazeera</td>\n",
       "      <td>Killer whales severely damaged a sailing boat ...</td>\n",
       "      <td>Dozens of incidents involving groups of orcas ...</td>\n",
       "      <td>2023-05-26T03:07:10Z</td>\n",
       "      <td>al-jazeera-english</td>\n",
       "      <td>Al Jazeera English</td>\n",
       "      <td>Killer whales damage boat in latest orca incid...</td>\n",
       "      <td>https://www.aljazeera.com/news/2023/5/26/kille...</td>\n",
       "    </tr>\n",
       "    <tr>\n",
       "      <th>4</th>\n",
       "      <td>6471ac4e0508754a06eb047b</td>\n",
       "      <td>NaN</td>\n",
       "      <td>WASHINGTON, May 25 (Reuters) - The founder of ...</td>\n",
       "      <td>The founder of the far-right militant Oath Kee...</td>\n",
       "      <td>2023-05-26T03:05:00Z</td>\n",
       "      <td>reuters</td>\n",
       "      <td>Reuters</td>\n",
       "      <td>Oath Keepers founder gets 18 years in prison, ...</td>\n",
       "      <td>https://www.reuters.com/legal/oath-keepers-fou...</td>\n",
       "    </tr>\n",
       "  </tbody>\n",
       "</table>\n",
       "</div>"
      ],
      "text/plain": [
       "                        _id                             author  \\\n",
       "0  6471ac4e0508754a06eb0477      Daniel Gilbert, Faiz Siddiqui   \n",
       "1  6471ac4e0508754a06eb0478  Jay King, Jared Weiss, Joe Vardon   \n",
       "2  6471ac4e0508754a06eb0479                                NaN   \n",
       "3  6471ac4e0508754a06eb047a                         Al Jazeera   \n",
       "4  6471ac4e0508754a06eb047b                                NaN   \n",
       "\n",
       "                                             content  \\\n",
       "0  Comment on this story\\r\\nComment\\r\\nNeuralink,...   \n",
       "1  BOSTON From a series sweep to a serious series...   \n",
       "2                                                NaN   \n",
       "3  Killer whales severely damaged a sailing boat ...   \n",
       "4  WASHINGTON, May 25 (Reuters) - The founder of ...   \n",
       "\n",
       "                                         description           publishedAt  \\\n",
       "0  Neuralink said it has regulatory approval to c...  2023-05-26T03:59:10Z   \n",
       "1  Derrick White, who opened the conference final...  2023-05-26T03:46:26Z   \n",
       "2  Jason Robertson had a pair of goals and Joe Pa...  2023-05-26T03:21:08Z   \n",
       "3  Dozens of incidents involving groups of orcas ...  2023-05-26T03:07:10Z   \n",
       "4  The founder of the far-right militant Oath Kee...  2023-05-26T03:05:00Z   \n",
       "\n",
       "             source.id          source.name  \\\n",
       "0  the-washington-post  The Washington Post   \n",
       "1                  NaN         The Athletic   \n",
       "2                  NaN              YouTube   \n",
       "3   al-jazeera-english   Al Jazeera English   \n",
       "4              reuters              Reuters   \n",
       "\n",
       "                                               title  \\\n",
       "0  Elon Musk's Neuralink says it has FDA approval...   \n",
       "1  Celtics trounce Heat in Game 5 of Eastern Conf...   \n",
       "2  NHL Western Conference Final Game 4 Highlights...   \n",
       "3  Killer whales damage boat in latest orca incid...   \n",
       "4  Oath Keepers founder gets 18 years in prison, ...   \n",
       "\n",
       "                                                 url  \n",
       "0  https://www.washingtonpost.com/business/2023/0...  \n",
       "1  https://theathletic.com/4554029/2023/05/25/cel...  \n",
       "2        https://www.youtube.com/watch?v=Os7zLvqG4mc  \n",
       "3  https://www.aljazeera.com/news/2023/5/26/kille...  \n",
       "4  https://www.reuters.com/legal/oath-keepers-fou...  "
      ]
     },
     "execution_count": 72,
     "metadata": {},
     "output_type": "execute_result"
    }
   ],
   "source": [
    "df.shape\n",
    "df.head(5)"
   ]
  },
  {
   "cell_type": "code",
   "execution_count": 73,
   "metadata": {},
   "outputs": [
    {
     "data": {
      "text/plain": [
       "0      6471ac4e0508754a06eb0477\n",
       "1      6471ac4e0508754a06eb0478\n",
       "2      6471ac4e0508754a06eb0479\n",
       "3      6471ac4e0508754a06eb047a\n",
       "4      6471ac4e0508754a06eb047b\n",
       "                 ...           \n",
       "175    647209b68bafdeb2a83021ee\n",
       "176    647209b68bafdeb2a83021ef\n",
       "177    647209b68bafdeb2a83021f0\n",
       "178    647209b68bafdeb2a83021f1\n",
       "179    647209b68bafdeb2a83021f2\n",
       "Name: _id, Length: 180, dtype: object"
      ]
     },
     "execution_count": 73,
     "metadata": {},
     "output_type": "execute_result"
    }
   ],
   "source": [
    "df['_id']"
   ]
  },
  {
   "cell_type": "code",
   "execution_count": 74,
   "metadata": {},
   "outputs": [
    {
     "data": {
      "text/plain": [
       "_id             0\n",
       "author         31\n",
       "content        20\n",
       "description     9\n",
       "publishedAt     0\n",
       "source.id      60\n",
       "source.name     0\n",
       "title           0\n",
       "url             0\n",
       "dtype: int64"
      ]
     },
     "execution_count": 74,
     "metadata": {},
     "output_type": "execute_result"
    }
   ],
   "source": [
    "df.isnull().sum()"
   ]
  },
  {
   "cell_type": "code",
   "execution_count": 75,
   "metadata": {},
   "outputs": [
    {
     "data": {
      "text/plain": [
       "0      the-washington-post\n",
       "1                      NaN\n",
       "2                      NaN\n",
       "3       al-jazeera-english\n",
       "4                  reuters\n",
       "              ...         \n",
       "175                    NaN\n",
       "176     al-jazeera-english\n",
       "177            independent\n",
       "178               abc-news\n",
       "179                    NaN\n",
       "Name: source.id, Length: 180, dtype: object"
      ]
     },
     "execution_count": 75,
     "metadata": {},
     "output_type": "execute_result"
    }
   ],
   "source": [
    "df.pop('source.id')"
   ]
  },
  {
   "cell_type": "code",
   "execution_count": 76,
   "metadata": {},
   "outputs": [
    {
     "data": {
      "text/html": [
       "<div>\n",
       "<style scoped>\n",
       "    .dataframe tbody tr th:only-of-type {\n",
       "        vertical-align: middle;\n",
       "    }\n",
       "\n",
       "    .dataframe tbody tr th {\n",
       "        vertical-align: top;\n",
       "    }\n",
       "\n",
       "    .dataframe thead th {\n",
       "        text-align: right;\n",
       "    }\n",
       "</style>\n",
       "<table border=\"1\" class=\"dataframe\">\n",
       "  <thead>\n",
       "    <tr style=\"text-align: right;\">\n",
       "      <th></th>\n",
       "      <th>_id</th>\n",
       "      <th>author</th>\n",
       "      <th>content</th>\n",
       "      <th>description</th>\n",
       "      <th>publishedAt</th>\n",
       "      <th>source.name</th>\n",
       "      <th>title</th>\n",
       "      <th>url</th>\n",
       "    </tr>\n",
       "  </thead>\n",
       "  <tbody>\n",
       "    <tr>\n",
       "      <th>0</th>\n",
       "      <td>6471ac4e0508754a06eb0477</td>\n",
       "      <td>Daniel Gilbert, Faiz Siddiqui</td>\n",
       "      <td>Comment on this story\\r\\nComment\\r\\nNeuralink,...</td>\n",
       "      <td>Neuralink said it has regulatory approval to c...</td>\n",
       "      <td>2023-05-26T03:59:10Z</td>\n",
       "      <td>The Washington Post</td>\n",
       "      <td>Elon Musk's Neuralink says it has FDA approval...</td>\n",
       "      <td>https://www.washingtonpost.com/business/2023/0...</td>\n",
       "    </tr>\n",
       "    <tr>\n",
       "      <th>1</th>\n",
       "      <td>6471ac4e0508754a06eb0478</td>\n",
       "      <td>Jay King, Jared Weiss, Joe Vardon</td>\n",
       "      <td>BOSTON From a series sweep to a serious series...</td>\n",
       "      <td>Derrick White, who opened the conference final...</td>\n",
       "      <td>2023-05-26T03:46:26Z</td>\n",
       "      <td>The Athletic</td>\n",
       "      <td>Celtics trounce Heat in Game 5 of Eastern Conf...</td>\n",
       "      <td>https://theathletic.com/4554029/2023/05/25/cel...</td>\n",
       "    </tr>\n",
       "    <tr>\n",
       "      <th>2</th>\n",
       "      <td>6471ac4e0508754a06eb0479</td>\n",
       "      <td>NaN</td>\n",
       "      <td>NaN</td>\n",
       "      <td>Jason Robertson had a pair of goals and Joe Pa...</td>\n",
       "      <td>2023-05-26T03:21:08Z</td>\n",
       "      <td>YouTube</td>\n",
       "      <td>NHL Western Conference Final Game 4 Highlights...</td>\n",
       "      <td>https://www.youtube.com/watch?v=Os7zLvqG4mc</td>\n",
       "    </tr>\n",
       "    <tr>\n",
       "      <th>3</th>\n",
       "      <td>6471ac4e0508754a06eb047a</td>\n",
       "      <td>Al Jazeera</td>\n",
       "      <td>Killer whales severely damaged a sailing boat ...</td>\n",
       "      <td>Dozens of incidents involving groups of orcas ...</td>\n",
       "      <td>2023-05-26T03:07:10Z</td>\n",
       "      <td>Al Jazeera English</td>\n",
       "      <td>Killer whales damage boat in latest orca incid...</td>\n",
       "      <td>https://www.aljazeera.com/news/2023/5/26/kille...</td>\n",
       "    </tr>\n",
       "    <tr>\n",
       "      <th>4</th>\n",
       "      <td>6471ac4e0508754a06eb047b</td>\n",
       "      <td>NaN</td>\n",
       "      <td>WASHINGTON, May 25 (Reuters) - The founder of ...</td>\n",
       "      <td>The founder of the far-right militant Oath Kee...</td>\n",
       "      <td>2023-05-26T03:05:00Z</td>\n",
       "      <td>Reuters</td>\n",
       "      <td>Oath Keepers founder gets 18 years in prison, ...</td>\n",
       "      <td>https://www.reuters.com/legal/oath-keepers-fou...</td>\n",
       "    </tr>\n",
       "  </tbody>\n",
       "</table>\n",
       "</div>"
      ],
      "text/plain": [
       "                        _id                             author  \\\n",
       "0  6471ac4e0508754a06eb0477      Daniel Gilbert, Faiz Siddiqui   \n",
       "1  6471ac4e0508754a06eb0478  Jay King, Jared Weiss, Joe Vardon   \n",
       "2  6471ac4e0508754a06eb0479                                NaN   \n",
       "3  6471ac4e0508754a06eb047a                         Al Jazeera   \n",
       "4  6471ac4e0508754a06eb047b                                NaN   \n",
       "\n",
       "                                             content  \\\n",
       "0  Comment on this story\\r\\nComment\\r\\nNeuralink,...   \n",
       "1  BOSTON From a series sweep to a serious series...   \n",
       "2                                                NaN   \n",
       "3  Killer whales severely damaged a sailing boat ...   \n",
       "4  WASHINGTON, May 25 (Reuters) - The founder of ...   \n",
       "\n",
       "                                         description           publishedAt  \\\n",
       "0  Neuralink said it has regulatory approval to c...  2023-05-26T03:59:10Z   \n",
       "1  Derrick White, who opened the conference final...  2023-05-26T03:46:26Z   \n",
       "2  Jason Robertson had a pair of goals and Joe Pa...  2023-05-26T03:21:08Z   \n",
       "3  Dozens of incidents involving groups of orcas ...  2023-05-26T03:07:10Z   \n",
       "4  The founder of the far-right militant Oath Kee...  2023-05-26T03:05:00Z   \n",
       "\n",
       "           source.name                                              title  \\\n",
       "0  The Washington Post  Elon Musk's Neuralink says it has FDA approval...   \n",
       "1         The Athletic  Celtics trounce Heat in Game 5 of Eastern Conf...   \n",
       "2              YouTube  NHL Western Conference Final Game 4 Highlights...   \n",
       "3   Al Jazeera English  Killer whales damage boat in latest orca incid...   \n",
       "4              Reuters  Oath Keepers founder gets 18 years in prison, ...   \n",
       "\n",
       "                                                 url  \n",
       "0  https://www.washingtonpost.com/business/2023/0...  \n",
       "1  https://theathletic.com/4554029/2023/05/25/cel...  \n",
       "2        https://www.youtube.com/watch?v=Os7zLvqG4mc  \n",
       "3  https://www.aljazeera.com/news/2023/5/26/kille...  \n",
       "4  https://www.reuters.com/legal/oath-keepers-fou...  "
      ]
     },
     "execution_count": 76,
     "metadata": {},
     "output_type": "execute_result"
    }
   ],
   "source": [
    "df.head(5)"
   ]
  },
  {
   "cell_type": "code",
   "execution_count": 77,
   "metadata": {},
   "outputs": [],
   "source": [
    "df1 = df.dropna(axis=0,inplace=False)"
   ]
  },
  {
   "cell_type": "code",
   "execution_count": 78,
   "metadata": {},
   "outputs": [
    {
     "data": {
      "text/html": [
       "<div>\n",
       "<style scoped>\n",
       "    .dataframe tbody tr th:only-of-type {\n",
       "        vertical-align: middle;\n",
       "    }\n",
       "\n",
       "    .dataframe tbody tr th {\n",
       "        vertical-align: top;\n",
       "    }\n",
       "\n",
       "    .dataframe thead th {\n",
       "        text-align: right;\n",
       "    }\n",
       "</style>\n",
       "<table border=\"1\" class=\"dataframe\">\n",
       "  <thead>\n",
       "    <tr style=\"text-align: right;\">\n",
       "      <th></th>\n",
       "      <th>_id</th>\n",
       "      <th>author</th>\n",
       "      <th>content</th>\n",
       "      <th>description</th>\n",
       "      <th>publishedAt</th>\n",
       "      <th>source.name</th>\n",
       "      <th>title</th>\n",
       "      <th>url</th>\n",
       "    </tr>\n",
       "  </thead>\n",
       "  <tbody>\n",
       "    <tr>\n",
       "      <th>0</th>\n",
       "      <td>6471ac4e0508754a06eb0477</td>\n",
       "      <td>Daniel Gilbert, Faiz Siddiqui</td>\n",
       "      <td>Comment on this story\\r\\nComment\\r\\nNeuralink,...</td>\n",
       "      <td>Neuralink said it has regulatory approval to c...</td>\n",
       "      <td>2023-05-26T03:59:10Z</td>\n",
       "      <td>The Washington Post</td>\n",
       "      <td>Elon Musk's Neuralink says it has FDA approval...</td>\n",
       "      <td>https://www.washingtonpost.com/business/2023/0...</td>\n",
       "    </tr>\n",
       "    <tr>\n",
       "      <th>1</th>\n",
       "      <td>6471ac4e0508754a06eb0478</td>\n",
       "      <td>Jay King, Jared Weiss, Joe Vardon</td>\n",
       "      <td>BOSTON From a series sweep to a serious series...</td>\n",
       "      <td>Derrick White, who opened the conference final...</td>\n",
       "      <td>2023-05-26T03:46:26Z</td>\n",
       "      <td>The Athletic</td>\n",
       "      <td>Celtics trounce Heat in Game 5 of Eastern Conf...</td>\n",
       "      <td>https://theathletic.com/4554029/2023/05/25/cel...</td>\n",
       "    </tr>\n",
       "    <tr>\n",
       "      <th>3</th>\n",
       "      <td>6471ac4e0508754a06eb047a</td>\n",
       "      <td>Al Jazeera</td>\n",
       "      <td>Killer whales severely damaged a sailing boat ...</td>\n",
       "      <td>Dozens of incidents involving groups of orcas ...</td>\n",
       "      <td>2023-05-26T03:07:10Z</td>\n",
       "      <td>Al Jazeera English</td>\n",
       "      <td>Killer whales damage boat in latest orca incid...</td>\n",
       "      <td>https://www.aljazeera.com/news/2023/5/26/kille...</td>\n",
       "    </tr>\n",
       "    <tr>\n",
       "      <th>5</th>\n",
       "      <td>6471ac4e0508754a06eb047c</td>\n",
       "      <td>James Politi, Lauren Fedor</td>\n",
       "      <td>What is included in my trial?\\r\\nDuring your t...</td>\n",
       "      <td>News, analysis and comment from the Financial ...</td>\n",
       "      <td>2023-05-26T02:03:45Z</td>\n",
       "      <td>Financial Times</td>\n",
       "      <td>US debt ceiling talks progress as deadline app...</td>\n",
       "      <td>https://www.ft.com/content/3ffeea42-d5ed-45d9-...</td>\n",
       "    </tr>\n",
       "    <tr>\n",
       "      <th>6</th>\n",
       "      <td>6471ac4e0508754a06eb047d</td>\n",
       "      <td>Alex Ford, María Méndez</td>\n",
       "      <td>Sign up for The Brief, The Texas Tribunes dail...</td>\n",
       "      <td>The Texas Legislature has never removed an att...</td>\n",
       "      <td>2023-05-26T01:49:08Z</td>\n",
       "      <td>The Texas Tribune</td>\n",
       "      <td>Attorney General Ken Paxton faces impeachment:...</td>\n",
       "      <td>https://www.texastribune.org/2023/05/25/texas-...</td>\n",
       "    </tr>\n",
       "  </tbody>\n",
       "</table>\n",
       "</div>"
      ],
      "text/plain": [
       "                        _id                             author  \\\n",
       "0  6471ac4e0508754a06eb0477      Daniel Gilbert, Faiz Siddiqui   \n",
       "1  6471ac4e0508754a06eb0478  Jay King, Jared Weiss, Joe Vardon   \n",
       "3  6471ac4e0508754a06eb047a                         Al Jazeera   \n",
       "5  6471ac4e0508754a06eb047c         James Politi, Lauren Fedor   \n",
       "6  6471ac4e0508754a06eb047d            Alex Ford, María Méndez   \n",
       "\n",
       "                                             content  \\\n",
       "0  Comment on this story\\r\\nComment\\r\\nNeuralink,...   \n",
       "1  BOSTON From a series sweep to a serious series...   \n",
       "3  Killer whales severely damaged a sailing boat ...   \n",
       "5  What is included in my trial?\\r\\nDuring your t...   \n",
       "6  Sign up for The Brief, The Texas Tribunes dail...   \n",
       "\n",
       "                                         description           publishedAt  \\\n",
       "0  Neuralink said it has regulatory approval to c...  2023-05-26T03:59:10Z   \n",
       "1  Derrick White, who opened the conference final...  2023-05-26T03:46:26Z   \n",
       "3  Dozens of incidents involving groups of orcas ...  2023-05-26T03:07:10Z   \n",
       "5  News, analysis and comment from the Financial ...  2023-05-26T02:03:45Z   \n",
       "6  The Texas Legislature has never removed an att...  2023-05-26T01:49:08Z   \n",
       "\n",
       "           source.name                                              title  \\\n",
       "0  The Washington Post  Elon Musk's Neuralink says it has FDA approval...   \n",
       "1         The Athletic  Celtics trounce Heat in Game 5 of Eastern Conf...   \n",
       "3   Al Jazeera English  Killer whales damage boat in latest orca incid...   \n",
       "5      Financial Times  US debt ceiling talks progress as deadline app...   \n",
       "6    The Texas Tribune  Attorney General Ken Paxton faces impeachment:...   \n",
       "\n",
       "                                                 url  \n",
       "0  https://www.washingtonpost.com/business/2023/0...  \n",
       "1  https://theathletic.com/4554029/2023/05/25/cel...  \n",
       "3  https://www.aljazeera.com/news/2023/5/26/kille...  \n",
       "5  https://www.ft.com/content/3ffeea42-d5ed-45d9-...  \n",
       "6  https://www.texastribune.org/2023/05/25/texas-...  "
      ]
     },
     "execution_count": 78,
     "metadata": {},
     "output_type": "execute_result"
    }
   ],
   "source": [
    "df1.head()"
   ]
  },
  {
   "cell_type": "code",
   "execution_count": 79,
   "metadata": {},
   "outputs": [
    {
     "data": {
      "text/plain": [
       "_id            0\n",
       "author         0\n",
       "content        0\n",
       "description    0\n",
       "publishedAt    0\n",
       "source.name    0\n",
       "title          0\n",
       "url            0\n",
       "dtype: int64"
      ]
     },
     "execution_count": 79,
     "metadata": {},
     "output_type": "execute_result"
    }
   ],
   "source": [
    "df1.isnull().sum() #NO null value is remaining"
   ]
  },
  {
   "cell_type": "code",
   "execution_count": 80,
   "metadata": {},
   "outputs": [
    {
     "data": {
      "text/plain": [
       "0      6471ac4e0508754a06eb0477\n",
       "1      6471ac4e0508754a06eb0478\n",
       "3      6471ac4e0508754a06eb047a\n",
       "5      6471ac4e0508754a06eb047c\n",
       "6      6471ac4e0508754a06eb047d\n",
       "                 ...           \n",
       "175    647209b68bafdeb2a83021ee\n",
       "176    647209b68bafdeb2a83021ef\n",
       "177    647209b68bafdeb2a83021f0\n",
       "178    647209b68bafdeb2a83021f1\n",
       "179    647209b68bafdeb2a83021f2\n",
       "Name: _id, Length: 132, dtype: object"
      ]
     },
     "execution_count": 80,
     "metadata": {},
     "output_type": "execute_result"
    }
   ],
   "source": [
    "df1['_id']"
   ]
  },
  {
   "cell_type": "code",
   "execution_count": 81,
   "metadata": {},
   "outputs": [
    {
     "name": "stderr",
     "output_type": "stream",
     "text": [
      "C:\\Users\\Lenovo\\AppData\\Local\\Temp\\ipykernel_10488\\3909394999.py:1: FutureWarning: The default value of regex will change from True to False in a future version.\n",
      "  df1['content'] = df1['content'].str.replace('\\r|\\n',\"\")\n",
      "C:\\Users\\Lenovo\\AppData\\Local\\Temp\\ipykernel_10488\\3909394999.py:1: SettingWithCopyWarning: \n",
      "A value is trying to be set on a copy of a slice from a DataFrame.\n",
      "Try using .loc[row_indexer,col_indexer] = value instead\n",
      "\n",
      "See the caveats in the documentation: https://pandas.pydata.org/pandas-docs/stable/user_guide/indexing.html#returning-a-view-versus-a-copy\n",
      "  df1['content'] = df1['content'].str.replace('\\r|\\n',\"\")\n"
     ]
    }
   ],
   "source": [
    "df1['content'] = df1['content'].str.replace('\\r|\\n',\"\")"
   ]
  },
  {
   "cell_type": "code",
   "execution_count": 82,
   "metadata": {},
   "outputs": [
    {
     "data": {
      "text/html": [
       "<div>\n",
       "<style scoped>\n",
       "    .dataframe tbody tr th:only-of-type {\n",
       "        vertical-align: middle;\n",
       "    }\n",
       "\n",
       "    .dataframe tbody tr th {\n",
       "        vertical-align: top;\n",
       "    }\n",
       "\n",
       "    .dataframe thead th {\n",
       "        text-align: right;\n",
       "    }\n",
       "</style>\n",
       "<table border=\"1\" class=\"dataframe\">\n",
       "  <thead>\n",
       "    <tr style=\"text-align: right;\">\n",
       "      <th></th>\n",
       "      <th>_id</th>\n",
       "      <th>author</th>\n",
       "      <th>content</th>\n",
       "      <th>description</th>\n",
       "      <th>publishedAt</th>\n",
       "      <th>source.name</th>\n",
       "      <th>title</th>\n",
       "      <th>url</th>\n",
       "    </tr>\n",
       "  </thead>\n",
       "  <tbody>\n",
       "    <tr>\n",
       "      <th>0</th>\n",
       "      <td>6471ac4e0508754a06eb0477</td>\n",
       "      <td>Daniel Gilbert, Faiz Siddiqui</td>\n",
       "      <td>Comment on this storyCommentNeuralink, Elon Mu...</td>\n",
       "      <td>Neuralink said it has regulatory approval to c...</td>\n",
       "      <td>2023-05-26T03:59:10Z</td>\n",
       "      <td>The Washington Post</td>\n",
       "      <td>Elon Musk's Neuralink says it has FDA approval...</td>\n",
       "      <td>https://www.washingtonpost.com/business/2023/0...</td>\n",
       "    </tr>\n",
       "    <tr>\n",
       "      <th>1</th>\n",
       "      <td>6471ac4e0508754a06eb0478</td>\n",
       "      <td>Jay King, Jared Weiss, Joe Vardon</td>\n",
       "      <td>BOSTON From a series sweep to a serious series...</td>\n",
       "      <td>Derrick White, who opened the conference final...</td>\n",
       "      <td>2023-05-26T03:46:26Z</td>\n",
       "      <td>The Athletic</td>\n",
       "      <td>Celtics trounce Heat in Game 5 of Eastern Conf...</td>\n",
       "      <td>https://theathletic.com/4554029/2023/05/25/cel...</td>\n",
       "    </tr>\n",
       "    <tr>\n",
       "      <th>3</th>\n",
       "      <td>6471ac4e0508754a06eb047a</td>\n",
       "      <td>Al Jazeera</td>\n",
       "      <td>Killer whales severely damaged a sailing boat ...</td>\n",
       "      <td>Dozens of incidents involving groups of orcas ...</td>\n",
       "      <td>2023-05-26T03:07:10Z</td>\n",
       "      <td>Al Jazeera English</td>\n",
       "      <td>Killer whales damage boat in latest orca incid...</td>\n",
       "      <td>https://www.aljazeera.com/news/2023/5/26/kille...</td>\n",
       "    </tr>\n",
       "    <tr>\n",
       "      <th>5</th>\n",
       "      <td>6471ac4e0508754a06eb047c</td>\n",
       "      <td>James Politi, Lauren Fedor</td>\n",
       "      <td>What is included in my trial?During your trial...</td>\n",
       "      <td>News, analysis and comment from the Financial ...</td>\n",
       "      <td>2023-05-26T02:03:45Z</td>\n",
       "      <td>Financial Times</td>\n",
       "      <td>US debt ceiling talks progress as deadline app...</td>\n",
       "      <td>https://www.ft.com/content/3ffeea42-d5ed-45d9-...</td>\n",
       "    </tr>\n",
       "    <tr>\n",
       "      <th>6</th>\n",
       "      <td>6471ac4e0508754a06eb047d</td>\n",
       "      <td>Alex Ford, María Méndez</td>\n",
       "      <td>Sign up for The Brief, The Texas Tribunes dail...</td>\n",
       "      <td>The Texas Legislature has never removed an att...</td>\n",
       "      <td>2023-05-26T01:49:08Z</td>\n",
       "      <td>The Texas Tribune</td>\n",
       "      <td>Attorney General Ken Paxton faces impeachment:...</td>\n",
       "      <td>https://www.texastribune.org/2023/05/25/texas-...</td>\n",
       "    </tr>\n",
       "    <tr>\n",
       "      <th>7</th>\n",
       "      <td>6471ac4e0508754a06eb047e</td>\n",
       "      <td>LAURAN NEERGAARD AP Medical Writer</td>\n",
       "      <td>WASHINGTON -- About 10% of people appear to su...</td>\n",
       "      <td>A U.S. study suggests 1 in 10 people are getti...</td>\n",
       "      <td>2023-05-26T01:42:30Z</td>\n",
       "      <td>ABC News</td>\n",
       "      <td>US study finds 1 in 10 get long COVID after om...</td>\n",
       "      <td>https://abcnews.go.com/Health/wireStory/us-stu...</td>\n",
       "    </tr>\n",
       "    <tr>\n",
       "      <th>9</th>\n",
       "      <td>6471ac4e0508754a06eb0480</td>\n",
       "      <td>Pete Hammond</td>\n",
       "      <td>amFAR, the organization founded by the late Dr...</td>\n",
       "      <td>amFAR, the organization founded by the late Dr...</td>\n",
       "      <td>2023-05-26T00:28:00Z</td>\n",
       "      <td>Deadline</td>\n",
       "      <td>amFAR Cannes Gala: DiCaprio Painting Fetches $...</td>\n",
       "      <td>https://deadline.com/2023/05/amfar-cannes-gala...</td>\n",
       "    </tr>\n",
       "    <tr>\n",
       "      <th>11</th>\n",
       "      <td>6471ac4e0508754a06eb0482</td>\n",
       "      <td>Timothy Puko, Robert Barnes</td>\n",
       "      <td>Comment on this storyCommentBogs. Marshes. Swa...</td>\n",
       "      <td>The decision could affect tens of thousands of...</td>\n",
       "      <td>2023-05-25T23:57:00Z</td>\n",
       "      <td>The Washington Post</td>\n",
       "      <td>How Supreme Court's EPA ruling will affect U.S...</td>\n",
       "      <td>https://www.washingtonpost.com/climate-environ...</td>\n",
       "    </tr>\n",
       "    <tr>\n",
       "      <th>16</th>\n",
       "      <td>6471ac4e0508754a06eb0487</td>\n",
       "      <td>Brad Dress</td>\n",
       "      <td>Skip to contentWagner Group founder Yevgeny Pr...</td>\n",
       "      <td>Wagner Group founder Yevgeny Prigozhin once ag...</td>\n",
       "      <td>2023-05-25T22:37:00Z</td>\n",
       "      <td>The Hill</td>\n",
       "      <td>Why the Wagner boss is saying Russia could los...</td>\n",
       "      <td>https://thehill.com/policy/defense/4021563-why...</td>\n",
       "    </tr>\n",
       "    <tr>\n",
       "      <th>17</th>\n",
       "      <td>6471ac4e0508754a06eb0488</td>\n",
       "      <td>Brooke Kato</td>\n",
       "      <td>Forego forgetfulness with one daily habit.Memo...</td>\n",
       "      <td>Forego forgetfulness with one daily habit.</td>\n",
       "      <td>2023-05-25T21:56:00Z</td>\n",
       "      <td>New York Post</td>\n",
       "      <td>Multivitamins could curb age-related memory lo...</td>\n",
       "      <td>https://nypost.com/2023/05/25/multivitamins-co...</td>\n",
       "    </tr>\n",
       "  </tbody>\n",
       "</table>\n",
       "</div>"
      ],
      "text/plain": [
       "                         _id                              author  \\\n",
       "0   6471ac4e0508754a06eb0477       Daniel Gilbert, Faiz Siddiqui   \n",
       "1   6471ac4e0508754a06eb0478   Jay King, Jared Weiss, Joe Vardon   \n",
       "3   6471ac4e0508754a06eb047a                          Al Jazeera   \n",
       "5   6471ac4e0508754a06eb047c          James Politi, Lauren Fedor   \n",
       "6   6471ac4e0508754a06eb047d             Alex Ford, María Méndez   \n",
       "7   6471ac4e0508754a06eb047e  LAURAN NEERGAARD AP Medical Writer   \n",
       "9   6471ac4e0508754a06eb0480                        Pete Hammond   \n",
       "11  6471ac4e0508754a06eb0482         Timothy Puko, Robert Barnes   \n",
       "16  6471ac4e0508754a06eb0487                          Brad Dress   \n",
       "17  6471ac4e0508754a06eb0488                         Brooke Kato   \n",
       "\n",
       "                                              content  \\\n",
       "0   Comment on this storyCommentNeuralink, Elon Mu...   \n",
       "1   BOSTON From a series sweep to a serious series...   \n",
       "3   Killer whales severely damaged a sailing boat ...   \n",
       "5   What is included in my trial?During your trial...   \n",
       "6   Sign up for The Brief, The Texas Tribunes dail...   \n",
       "7   WASHINGTON -- About 10% of people appear to su...   \n",
       "9   amFAR, the organization founded by the late Dr...   \n",
       "11  Comment on this storyCommentBogs. Marshes. Swa...   \n",
       "16  Skip to contentWagner Group founder Yevgeny Pr...   \n",
       "17  Forego forgetfulness with one daily habit.Memo...   \n",
       "\n",
       "                                          description           publishedAt  \\\n",
       "0   Neuralink said it has regulatory approval to c...  2023-05-26T03:59:10Z   \n",
       "1   Derrick White, who opened the conference final...  2023-05-26T03:46:26Z   \n",
       "3   Dozens of incidents involving groups of orcas ...  2023-05-26T03:07:10Z   \n",
       "5   News, analysis and comment from the Financial ...  2023-05-26T02:03:45Z   \n",
       "6   The Texas Legislature has never removed an att...  2023-05-26T01:49:08Z   \n",
       "7   A U.S. study suggests 1 in 10 people are getti...  2023-05-26T01:42:30Z   \n",
       "9   amFAR, the organization founded by the late Dr...  2023-05-26T00:28:00Z   \n",
       "11  The decision could affect tens of thousands of...  2023-05-25T23:57:00Z   \n",
       "16  Wagner Group founder Yevgeny Prigozhin once ag...  2023-05-25T22:37:00Z   \n",
       "17         Forego forgetfulness with one daily habit.  2023-05-25T21:56:00Z   \n",
       "\n",
       "            source.name                                              title  \\\n",
       "0   The Washington Post  Elon Musk's Neuralink says it has FDA approval...   \n",
       "1          The Athletic  Celtics trounce Heat in Game 5 of Eastern Conf...   \n",
       "3    Al Jazeera English  Killer whales damage boat in latest orca incid...   \n",
       "5       Financial Times  US debt ceiling talks progress as deadline app...   \n",
       "6     The Texas Tribune  Attorney General Ken Paxton faces impeachment:...   \n",
       "7              ABC News  US study finds 1 in 10 get long COVID after om...   \n",
       "9              Deadline  amFAR Cannes Gala: DiCaprio Painting Fetches $...   \n",
       "11  The Washington Post  How Supreme Court's EPA ruling will affect U.S...   \n",
       "16             The Hill  Why the Wagner boss is saying Russia could los...   \n",
       "17        New York Post  Multivitamins could curb age-related memory lo...   \n",
       "\n",
       "                                                  url  \n",
       "0   https://www.washingtonpost.com/business/2023/0...  \n",
       "1   https://theathletic.com/4554029/2023/05/25/cel...  \n",
       "3   https://www.aljazeera.com/news/2023/5/26/kille...  \n",
       "5   https://www.ft.com/content/3ffeea42-d5ed-45d9-...  \n",
       "6   https://www.texastribune.org/2023/05/25/texas-...  \n",
       "7   https://abcnews.go.com/Health/wireStory/us-stu...  \n",
       "9   https://deadline.com/2023/05/amfar-cannes-gala...  \n",
       "11  https://www.washingtonpost.com/climate-environ...  \n",
       "16  https://thehill.com/policy/defense/4021563-why...  \n",
       "17  https://nypost.com/2023/05/25/multivitamins-co...  "
      ]
     },
     "execution_count": 82,
     "metadata": {},
     "output_type": "execute_result"
    }
   ],
   "source": [
    "df1[:10]"
   ]
  },
  {
   "cell_type": "markdown",
   "metadata": {},
   "source": [
    "## Apply the Senitment Analysis to the given data"
   ]
  },
  {
   "cell_type": "code",
   "execution_count": 83,
   "metadata": {},
   "outputs": [],
   "source": [
    "# Creating the model\n",
    "from sklearn.feature_extraction.text import CountVectorizer\n",
    "\n",
    "from sklearn.linear_model import LogisticRegression #import Logistic Regression \n",
    "from sklearn.naive_bayes import MultinomialNB #import Naive Byes\n",
    "from sklearn.svm import SVC #import the SVM\n",
    "import nltk\n"
   ]
  },
  {
   "cell_type": "code",
   "execution_count": 84,
   "metadata": {},
   "outputs": [
    {
     "name": "stderr",
     "output_type": "stream",
     "text": [
      "[nltk_data] Error loading : Package '' not found in index\n",
      "[nltk_data] Error loading vander_lexicon: Package 'vander_lexicon' not\n",
      "[nltk_data]     found in index\n"
     ]
    }
   ],
   "source": [
    "nltk.download('')\n",
    "\n",
    "\n",
    "nltk.download('vander_lexicon')\n",
    "from nltk.sentiment import SentimentIntensityAnalyzer\n"
   ]
  },
  {
   "cell_type": "code",
   "execution_count": 85,
   "metadata": {},
   "outputs": [],
   "source": [
    "senti = SentimentIntensityAnalyzer()\n",
    "def get_senttiment(text):\n",
    "    text = str(text)\n",
    "    senti_score = senti.polarity_scores(text)\n",
    "    compound_score = senti_score['compound']\n",
    "    \n",
    "    if compound_score > 0:\n",
    "        return 'Positive'\n",
    "    elif compound_score < 0:\n",
    "        return 'Negative'\n",
    "    else:\n",
    "        return 'Neutral'"
   ]
  },
  {
   "cell_type": "markdown",
   "metadata": {},
   "source": [
    "### Creating the Sentiment column"
   ]
  },
  {
   "cell_type": "code",
   "execution_count": 90,
   "metadata": {},
   "outputs": [
    {
     "name": "stderr",
     "output_type": "stream",
     "text": [
      "C:\\Users\\Lenovo\\AppData\\Local\\Temp\\ipykernel_10488\\2767381896.py:1: SettingWithCopyWarning: \n",
      "A value is trying to be set on a copy of a slice from a DataFrame.\n",
      "Try using .loc[row_indexer,col_indexer] = value instead\n",
      "\n",
      "See the caveats in the documentation: https://pandas.pydata.org/pandas-docs/stable/user_guide/indexing.html#returning-a-view-versus-a-copy\n",
      "  df1['sentiments'] = df1['description'].apply(get_senttiment)\n"
     ]
    }
   ],
   "source": [
    "df1['sentiments'] = df1['description'].apply(get_senttiment)"
   ]
  },
  {
   "cell_type": "code",
   "execution_count": 91,
   "metadata": {},
   "outputs": [
    {
     "data": {
      "text/html": [
       "<div>\n",
       "<style scoped>\n",
       "    .dataframe tbody tr th:only-of-type {\n",
       "        vertical-align: middle;\n",
       "    }\n",
       "\n",
       "    .dataframe tbody tr th {\n",
       "        vertical-align: top;\n",
       "    }\n",
       "\n",
       "    .dataframe thead th {\n",
       "        text-align: right;\n",
       "    }\n",
       "</style>\n",
       "<table border=\"1\" class=\"dataframe\">\n",
       "  <thead>\n",
       "    <tr style=\"text-align: right;\">\n",
       "      <th></th>\n",
       "      <th>_id</th>\n",
       "      <th>author</th>\n",
       "      <th>content</th>\n",
       "      <th>description</th>\n",
       "      <th>publishedAt</th>\n",
       "      <th>source.name</th>\n",
       "      <th>title</th>\n",
       "      <th>url</th>\n",
       "      <th>sentiments</th>\n",
       "    </tr>\n",
       "  </thead>\n",
       "  <tbody>\n",
       "    <tr>\n",
       "      <th>0</th>\n",
       "      <td>6471ac4e0508754a06eb0477</td>\n",
       "      <td>Daniel Gilbert, Faiz Siddiqui</td>\n",
       "      <td>Comment on this storyCommentNeuralink, Elon Mu...</td>\n",
       "      <td>Neuralink said it has regulatory approval to c...</td>\n",
       "      <td>2023-05-26T03:59:10Z</td>\n",
       "      <td>The Washington Post</td>\n",
       "      <td>Elon Musk's Neuralink says it has FDA approval...</td>\n",
       "      <td>https://www.washingtonpost.com/business/2023/0...</td>\n",
       "      <td>Positive</td>\n",
       "    </tr>\n",
       "    <tr>\n",
       "      <th>1</th>\n",
       "      <td>6471ac4e0508754a06eb0478</td>\n",
       "      <td>Jay King, Jared Weiss, Joe Vardon</td>\n",
       "      <td>BOSTON From a series sweep to a serious series...</td>\n",
       "      <td>Derrick White, who opened the conference final...</td>\n",
       "      <td>2023-05-26T03:46:26Z</td>\n",
       "      <td>The Athletic</td>\n",
       "      <td>Celtics trounce Heat in Game 5 of Eastern Conf...</td>\n",
       "      <td>https://theathletic.com/4554029/2023/05/25/cel...</td>\n",
       "      <td>Negative</td>\n",
       "    </tr>\n",
       "    <tr>\n",
       "      <th>3</th>\n",
       "      <td>6471ac4e0508754a06eb047a</td>\n",
       "      <td>Al Jazeera</td>\n",
       "      <td>Killer whales severely damaged a sailing boat ...</td>\n",
       "      <td>Dozens of incidents involving groups of orcas ...</td>\n",
       "      <td>2023-05-26T03:07:10Z</td>\n",
       "      <td>Al Jazeera English</td>\n",
       "      <td>Killer whales damage boat in latest orca incid...</td>\n",
       "      <td>https://www.aljazeera.com/news/2023/5/26/kille...</td>\n",
       "      <td>Neutral</td>\n",
       "    </tr>\n",
       "    <tr>\n",
       "      <th>5</th>\n",
       "      <td>6471ac4e0508754a06eb047c</td>\n",
       "      <td>James Politi, Lauren Fedor</td>\n",
       "      <td>What is included in my trial?During your trial...</td>\n",
       "      <td>News, analysis and comment from the Financial ...</td>\n",
       "      <td>2023-05-26T02:03:45Z</td>\n",
       "      <td>Financial Times</td>\n",
       "      <td>US debt ceiling talks progress as deadline app...</td>\n",
       "      <td>https://www.ft.com/content/3ffeea42-d5ed-45d9-...</td>\n",
       "      <td>Neutral</td>\n",
       "    </tr>\n",
       "    <tr>\n",
       "      <th>6</th>\n",
       "      <td>6471ac4e0508754a06eb047d</td>\n",
       "      <td>Alex Ford, María Méndez</td>\n",
       "      <td>Sign up for The Brief, The Texas Tribunes dail...</td>\n",
       "      <td>The Texas Legislature has never removed an att...</td>\n",
       "      <td>2023-05-26T01:49:08Z</td>\n",
       "      <td>The Texas Tribune</td>\n",
       "      <td>Attorney General Ken Paxton faces impeachment:...</td>\n",
       "      <td>https://www.texastribune.org/2023/05/25/texas-...</td>\n",
       "      <td>Neutral</td>\n",
       "    </tr>\n",
       "    <tr>\n",
       "      <th>7</th>\n",
       "      <td>6471ac4e0508754a06eb047e</td>\n",
       "      <td>LAURAN NEERGAARD AP Medical Writer</td>\n",
       "      <td>WASHINGTON -- About 10% of people appear to su...</td>\n",
       "      <td>A U.S. study suggests 1 in 10 people are getti...</td>\n",
       "      <td>2023-05-26T01:42:30Z</td>\n",
       "      <td>ABC News</td>\n",
       "      <td>US study finds 1 in 10 get long COVID after om...</td>\n",
       "      <td>https://abcnews.go.com/Health/wireStory/us-stu...</td>\n",
       "      <td>Negative</td>\n",
       "    </tr>\n",
       "    <tr>\n",
       "      <th>9</th>\n",
       "      <td>6471ac4e0508754a06eb0480</td>\n",
       "      <td>Pete Hammond</td>\n",
       "      <td>amFAR, the organization founded by the late Dr...</td>\n",
       "      <td>amFAR, the organization founded by the late Dr...</td>\n",
       "      <td>2023-05-26T00:28:00Z</td>\n",
       "      <td>Deadline</td>\n",
       "      <td>amFAR Cannes Gala: DiCaprio Painting Fetches $...</td>\n",
       "      <td>https://deadline.com/2023/05/amfar-cannes-gala...</td>\n",
       "      <td>Positive</td>\n",
       "    </tr>\n",
       "    <tr>\n",
       "      <th>11</th>\n",
       "      <td>6471ac4e0508754a06eb0482</td>\n",
       "      <td>Timothy Puko, Robert Barnes</td>\n",
       "      <td>Comment on this storyCommentBogs. Marshes. Swa...</td>\n",
       "      <td>The decision could affect tens of thousands of...</td>\n",
       "      <td>2023-05-25T23:57:00Z</td>\n",
       "      <td>The Washington Post</td>\n",
       "      <td>How Supreme Court's EPA ruling will affect U.S...</td>\n",
       "      <td>https://www.washingtonpost.com/climate-environ...</td>\n",
       "      <td>Neutral</td>\n",
       "    </tr>\n",
       "    <tr>\n",
       "      <th>16</th>\n",
       "      <td>6471ac4e0508754a06eb0487</td>\n",
       "      <td>Brad Dress</td>\n",
       "      <td>Skip to contentWagner Group founder Yevgeny Pr...</td>\n",
       "      <td>Wagner Group founder Yevgeny Prigozhin once ag...</td>\n",
       "      <td>2023-05-25T22:37:00Z</td>\n",
       "      <td>The Hill</td>\n",
       "      <td>Why the Wagner boss is saying Russia could los...</td>\n",
       "      <td>https://thehill.com/policy/defense/4021563-why...</td>\n",
       "      <td>Negative</td>\n",
       "    </tr>\n",
       "    <tr>\n",
       "      <th>17</th>\n",
       "      <td>6471ac4e0508754a06eb0488</td>\n",
       "      <td>Brooke Kato</td>\n",
       "      <td>Forego forgetfulness with one daily habit.Memo...</td>\n",
       "      <td>Forego forgetfulness with one daily habit.</td>\n",
       "      <td>2023-05-25T21:56:00Z</td>\n",
       "      <td>New York Post</td>\n",
       "      <td>Multivitamins could curb age-related memory lo...</td>\n",
       "      <td>https://nypost.com/2023/05/25/multivitamins-co...</td>\n",
       "      <td>Neutral</td>\n",
       "    </tr>\n",
       "  </tbody>\n",
       "</table>\n",
       "</div>"
      ],
      "text/plain": [
       "                         _id                              author  \\\n",
       "0   6471ac4e0508754a06eb0477       Daniel Gilbert, Faiz Siddiqui   \n",
       "1   6471ac4e0508754a06eb0478   Jay King, Jared Weiss, Joe Vardon   \n",
       "3   6471ac4e0508754a06eb047a                          Al Jazeera   \n",
       "5   6471ac4e0508754a06eb047c          James Politi, Lauren Fedor   \n",
       "6   6471ac4e0508754a06eb047d             Alex Ford, María Méndez   \n",
       "7   6471ac4e0508754a06eb047e  LAURAN NEERGAARD AP Medical Writer   \n",
       "9   6471ac4e0508754a06eb0480                        Pete Hammond   \n",
       "11  6471ac4e0508754a06eb0482         Timothy Puko, Robert Barnes   \n",
       "16  6471ac4e0508754a06eb0487                          Brad Dress   \n",
       "17  6471ac4e0508754a06eb0488                         Brooke Kato   \n",
       "\n",
       "                                              content  \\\n",
       "0   Comment on this storyCommentNeuralink, Elon Mu...   \n",
       "1   BOSTON From a series sweep to a serious series...   \n",
       "3   Killer whales severely damaged a sailing boat ...   \n",
       "5   What is included in my trial?During your trial...   \n",
       "6   Sign up for The Brief, The Texas Tribunes dail...   \n",
       "7   WASHINGTON -- About 10% of people appear to su...   \n",
       "9   amFAR, the organization founded by the late Dr...   \n",
       "11  Comment on this storyCommentBogs. Marshes. Swa...   \n",
       "16  Skip to contentWagner Group founder Yevgeny Pr...   \n",
       "17  Forego forgetfulness with one daily habit.Memo...   \n",
       "\n",
       "                                          description           publishedAt  \\\n",
       "0   Neuralink said it has regulatory approval to c...  2023-05-26T03:59:10Z   \n",
       "1   Derrick White, who opened the conference final...  2023-05-26T03:46:26Z   \n",
       "3   Dozens of incidents involving groups of orcas ...  2023-05-26T03:07:10Z   \n",
       "5   News, analysis and comment from the Financial ...  2023-05-26T02:03:45Z   \n",
       "6   The Texas Legislature has never removed an att...  2023-05-26T01:49:08Z   \n",
       "7   A U.S. study suggests 1 in 10 people are getti...  2023-05-26T01:42:30Z   \n",
       "9   amFAR, the organization founded by the late Dr...  2023-05-26T00:28:00Z   \n",
       "11  The decision could affect tens of thousands of...  2023-05-25T23:57:00Z   \n",
       "16  Wagner Group founder Yevgeny Prigozhin once ag...  2023-05-25T22:37:00Z   \n",
       "17         Forego forgetfulness with one daily habit.  2023-05-25T21:56:00Z   \n",
       "\n",
       "            source.name                                              title  \\\n",
       "0   The Washington Post  Elon Musk's Neuralink says it has FDA approval...   \n",
       "1          The Athletic  Celtics trounce Heat in Game 5 of Eastern Conf...   \n",
       "3    Al Jazeera English  Killer whales damage boat in latest orca incid...   \n",
       "5       Financial Times  US debt ceiling talks progress as deadline app...   \n",
       "6     The Texas Tribune  Attorney General Ken Paxton faces impeachment:...   \n",
       "7              ABC News  US study finds 1 in 10 get long COVID after om...   \n",
       "9              Deadline  amFAR Cannes Gala: DiCaprio Painting Fetches $...   \n",
       "11  The Washington Post  How Supreme Court's EPA ruling will affect U.S...   \n",
       "16             The Hill  Why the Wagner boss is saying Russia could los...   \n",
       "17        New York Post  Multivitamins could curb age-related memory lo...   \n",
       "\n",
       "                                                  url sentiments  \n",
       "0   https://www.washingtonpost.com/business/2023/0...   Positive  \n",
       "1   https://theathletic.com/4554029/2023/05/25/cel...   Negative  \n",
       "3   https://www.aljazeera.com/news/2023/5/26/kille...    Neutral  \n",
       "5   https://www.ft.com/content/3ffeea42-d5ed-45d9-...    Neutral  \n",
       "6   https://www.texastribune.org/2023/05/25/texas-...    Neutral  \n",
       "7   https://abcnews.go.com/Health/wireStory/us-stu...   Negative  \n",
       "9   https://deadline.com/2023/05/amfar-cannes-gala...   Positive  \n",
       "11  https://www.washingtonpost.com/climate-environ...    Neutral  \n",
       "16  https://thehill.com/policy/defense/4021563-why...   Negative  \n",
       "17  https://nypost.com/2023/05/25/multivitamins-co...    Neutral  "
      ]
     },
     "execution_count": 91,
     "metadata": {},
     "output_type": "execute_result"
    }
   ],
   "source": [
    "df1.head(10)"
   ]
  },
  {
   "cell_type": "code",
   "execution_count": 215,
   "metadata": {},
   "outputs": [
    {
     "name": "stdout",
     "output_type": "stream",
     "text": [
      "(132, 9)\n"
     ]
    }
   ],
   "source": [
    "df1.isnull().sum()\n",
    "print(df1.shape)"
   ]
  },
  {
   "cell_type": "markdown",
   "metadata": {},
   "source": [
    "## Model training and Testing"
   ]
  },
  {
   "cell_type": "code",
   "execution_count": 193,
   "metadata": {},
   "outputs": [],
   "source": [
    "from sklearn.model_selection import train_test_split\n",
    "from imblearn.over_sampling import SMOTE\n",
    "smote = SMOTE(random_state=42)\n",
    "X_train,X_test,Y_train,Y_test = train_test_split(df1['description'],df1['sentiments'],test_size=0.2,random_state =42 )\n"
   ]
  },
  {
   "cell_type": "code",
   "execution_count": 177,
   "metadata": {},
   "outputs": [],
   "source": [
    "'''\n",
    "For Knowledeg for me -------------->\n",
    "What is TF-IDF used for?\n",
    "TF-IDF stands for term frequency-inverse document frequency and it is a measure,\n",
    "used in the fields of information retrieval (IR) and machine learning, that can quantify the importance or\n",
    "relevance of string representations (words, phrases, lemmas, etc) in a document\n",
    "\n",
    "TF-IDF will transform the text into meaningful representation of integers or \n",
    "numbers which is used to fit machine learning algorithm for predictions\n",
    "'''\n",
    "\n",
    "\n",
    "from sklearn.feature_extraction.text import TfidfVectorizer\n",
    "\n",
    "vectorizer = TfidfVectorizer()\n",
    "X_train_vectors = vectorizer.fit_transform(X_train)\n",
    "X_test_vectors = vectorizer.transform(X_test)\n",
    "# print(X_train_vectors)\n",
    "# print(X_test_vectors)\n"
   ]
  },
  {
   "cell_type": "code",
   "execution_count": 195,
   "metadata": {},
   "outputs": [],
   "source": [
    "x_train_resample,y_train_resample = smote.fit_resample(X_train_vectors,Y_train)"
   ]
  },
  {
   "cell_type": "markdown",
   "metadata": {},
   "source": [
    "### Applying and Train the Model(LogiticRegression)"
   ]
  },
  {
   "cell_type": "code",
   "execution_count": 196,
   "metadata": {},
   "outputs": [
    {
     "data": {
      "text/html": [
       "<style>#sk-container-id-4 {color: black;background-color: white;}#sk-container-id-4 pre{padding: 0;}#sk-container-id-4 div.sk-toggleable {background-color: white;}#sk-container-id-4 label.sk-toggleable__label {cursor: pointer;display: block;width: 100%;margin-bottom: 0;padding: 0.3em;box-sizing: border-box;text-align: center;}#sk-container-id-4 label.sk-toggleable__label-arrow:before {content: \"▸\";float: left;margin-right: 0.25em;color: #696969;}#sk-container-id-4 label.sk-toggleable__label-arrow:hover:before {color: black;}#sk-container-id-4 div.sk-estimator:hover label.sk-toggleable__label-arrow:before {color: black;}#sk-container-id-4 div.sk-toggleable__content {max-height: 0;max-width: 0;overflow: hidden;text-align: left;background-color: #f0f8ff;}#sk-container-id-4 div.sk-toggleable__content pre {margin: 0.2em;color: black;border-radius: 0.25em;background-color: #f0f8ff;}#sk-container-id-4 input.sk-toggleable__control:checked~div.sk-toggleable__content {max-height: 200px;max-width: 100%;overflow: auto;}#sk-container-id-4 input.sk-toggleable__control:checked~label.sk-toggleable__label-arrow:before {content: \"▾\";}#sk-container-id-4 div.sk-estimator input.sk-toggleable__control:checked~label.sk-toggleable__label {background-color: #d4ebff;}#sk-container-id-4 div.sk-label input.sk-toggleable__control:checked~label.sk-toggleable__label {background-color: #d4ebff;}#sk-container-id-4 input.sk-hidden--visually {border: 0;clip: rect(1px 1px 1px 1px);clip: rect(1px, 1px, 1px, 1px);height: 1px;margin: -1px;overflow: hidden;padding: 0;position: absolute;width: 1px;}#sk-container-id-4 div.sk-estimator {font-family: monospace;background-color: #f0f8ff;border: 1px dotted black;border-radius: 0.25em;box-sizing: border-box;margin-bottom: 0.5em;}#sk-container-id-4 div.sk-estimator:hover {background-color: #d4ebff;}#sk-container-id-4 div.sk-parallel-item::after {content: \"\";width: 100%;border-bottom: 1px solid gray;flex-grow: 1;}#sk-container-id-4 div.sk-label:hover label.sk-toggleable__label {background-color: #d4ebff;}#sk-container-id-4 div.sk-serial::before {content: \"\";position: absolute;border-left: 1px solid gray;box-sizing: border-box;top: 0;bottom: 0;left: 50%;z-index: 0;}#sk-container-id-4 div.sk-serial {display: flex;flex-direction: column;align-items: center;background-color: white;padding-right: 0.2em;padding-left: 0.2em;position: relative;}#sk-container-id-4 div.sk-item {position: relative;z-index: 1;}#sk-container-id-4 div.sk-parallel {display: flex;align-items: stretch;justify-content: center;background-color: white;position: relative;}#sk-container-id-4 div.sk-item::before, #sk-container-id-4 div.sk-parallel-item::before {content: \"\";position: absolute;border-left: 1px solid gray;box-sizing: border-box;top: 0;bottom: 0;left: 50%;z-index: -1;}#sk-container-id-4 div.sk-parallel-item {display: flex;flex-direction: column;z-index: 1;position: relative;background-color: white;}#sk-container-id-4 div.sk-parallel-item:first-child::after {align-self: flex-end;width: 50%;}#sk-container-id-4 div.sk-parallel-item:last-child::after {align-self: flex-start;width: 50%;}#sk-container-id-4 div.sk-parallel-item:only-child::after {width: 0;}#sk-container-id-4 div.sk-dashed-wrapped {border: 1px dashed gray;margin: 0 0.4em 0.5em 0.4em;box-sizing: border-box;padding-bottom: 0.4em;background-color: white;}#sk-container-id-4 div.sk-label label {font-family: monospace;font-weight: bold;display: inline-block;line-height: 1.2em;}#sk-container-id-4 div.sk-label-container {text-align: center;}#sk-container-id-4 div.sk-container {/* jupyter's `normalize.less` sets `[hidden] { display: none; }` but bootstrap.min.css set `[hidden] { display: none !important; }` so we also need the `!important` here to be able to override the default hidden behavior on the sphinx rendered scikit-learn.org. See: https://github.com/scikit-learn/scikit-learn/issues/21755 */display: inline-block !important;position: relative;}#sk-container-id-4 div.sk-text-repr-fallback {display: none;}</style><div id=\"sk-container-id-4\" class=\"sk-top-container\"><div class=\"sk-text-repr-fallback\"><pre>LogisticRegression()</pre><b>In a Jupyter environment, please rerun this cell to show the HTML representation or trust the notebook. <br />On GitHub, the HTML representation is unable to render, please try loading this page with nbviewer.org.</b></div><div class=\"sk-container\" hidden><div class=\"sk-item\"><div class=\"sk-estimator sk-toggleable\"><input class=\"sk-toggleable__control sk-hidden--visually\" id=\"sk-estimator-id-4\" type=\"checkbox\" checked><label for=\"sk-estimator-id-4\" class=\"sk-toggleable__label sk-toggleable__label-arrow\">LogisticRegression</label><div class=\"sk-toggleable__content\"><pre>LogisticRegression()</pre></div></div></div></div></div>"
      ],
      "text/plain": [
       "LogisticRegression()"
      ]
     },
     "execution_count": 196,
     "metadata": {},
     "output_type": "execute_result"
    }
   ],
   "source": [
    "X_train_dense = X_train_vectors.toarray()\n",
    "X_test_dense = X_test_vectors.toarray()\n",
    "model = LogisticRegression()\n",
    "# model.fit(X_train_dense,Y_train)\n",
    "model.fit(x_train_resample,y_train_resample)\n"
   ]
  },
  {
   "cell_type": "code",
   "execution_count": 197,
   "metadata": {},
   "outputs": [],
   "source": [
    "y_pred = model.predict(X_test_vectors)"
   ]
  },
  {
   "cell_type": "code",
   "execution_count": 198,
   "metadata": {},
   "outputs": [
    {
     "data": {
      "text/plain": [
       "array(['Negative', 'Negative', 'Positive', 'Negative', 'Negative',\n",
       "       'Negative', 'Neutral', 'Positive', 'Neutral', 'Negative',\n",
       "       'Positive', 'Negative', 'Negative', 'Positive', 'Positive',\n",
       "       'Positive', 'Positive', 'Negative', 'Negative', 'Positive',\n",
       "       'Negative', 'Negative', 'Neutral', 'Negative', 'Neutral',\n",
       "       'Negative', 'Positive'], dtype=object)"
      ]
     },
     "execution_count": 198,
     "metadata": {},
     "output_type": "execute_result"
    }
   ],
   "source": [
    "y_pred"
   ]
  },
  {
   "cell_type": "code",
   "execution_count": 199,
   "metadata": {},
   "outputs": [],
   "source": [
    "from sklearn.metrics import  accuracy_score\n",
    "accuracy = accuracy_score(Y_test,y_pred)"
   ]
  },
  {
   "cell_type": "code",
   "execution_count": 200,
   "metadata": {},
   "outputs": [
    {
     "name": "stdout",
     "output_type": "stream",
     "text": [
      "accuracy =  0.37037037037037035\n",
      "accuracy(per%) = 37.04%\n"
     ]
    }
   ],
   "source": [
    "print(\"accuracy = \",accuracy)\n",
    "print(\"accuracy(per%) = \"+str(round(accuracy*100,2))+\"%\")"
   ]
  },
  {
   "cell_type": "markdown",
   "metadata": {},
   "source": [
    "### Applying the model Traninig (Support Vector Machine)"
   ]
  },
  {
   "cell_type": "code",
   "execution_count": 233,
   "metadata": {},
   "outputs": [
    {
     "data": {
      "text/html": [
       "<style>#sk-container-id-6 {color: black;background-color: white;}#sk-container-id-6 pre{padding: 0;}#sk-container-id-6 div.sk-toggleable {background-color: white;}#sk-container-id-6 label.sk-toggleable__label {cursor: pointer;display: block;width: 100%;margin-bottom: 0;padding: 0.3em;box-sizing: border-box;text-align: center;}#sk-container-id-6 label.sk-toggleable__label-arrow:before {content: \"▸\";float: left;margin-right: 0.25em;color: #696969;}#sk-container-id-6 label.sk-toggleable__label-arrow:hover:before {color: black;}#sk-container-id-6 div.sk-estimator:hover label.sk-toggleable__label-arrow:before {color: black;}#sk-container-id-6 div.sk-toggleable__content {max-height: 0;max-width: 0;overflow: hidden;text-align: left;background-color: #f0f8ff;}#sk-container-id-6 div.sk-toggleable__content pre {margin: 0.2em;color: black;border-radius: 0.25em;background-color: #f0f8ff;}#sk-container-id-6 input.sk-toggleable__control:checked~div.sk-toggleable__content {max-height: 200px;max-width: 100%;overflow: auto;}#sk-container-id-6 input.sk-toggleable__control:checked~label.sk-toggleable__label-arrow:before {content: \"▾\";}#sk-container-id-6 div.sk-estimator input.sk-toggleable__control:checked~label.sk-toggleable__label {background-color: #d4ebff;}#sk-container-id-6 div.sk-label input.sk-toggleable__control:checked~label.sk-toggleable__label {background-color: #d4ebff;}#sk-container-id-6 input.sk-hidden--visually {border: 0;clip: rect(1px 1px 1px 1px);clip: rect(1px, 1px, 1px, 1px);height: 1px;margin: -1px;overflow: hidden;padding: 0;position: absolute;width: 1px;}#sk-container-id-6 div.sk-estimator {font-family: monospace;background-color: #f0f8ff;border: 1px dotted black;border-radius: 0.25em;box-sizing: border-box;margin-bottom: 0.5em;}#sk-container-id-6 div.sk-estimator:hover {background-color: #d4ebff;}#sk-container-id-6 div.sk-parallel-item::after {content: \"\";width: 100%;border-bottom: 1px solid gray;flex-grow: 1;}#sk-container-id-6 div.sk-label:hover label.sk-toggleable__label {background-color: #d4ebff;}#sk-container-id-6 div.sk-serial::before {content: \"\";position: absolute;border-left: 1px solid gray;box-sizing: border-box;top: 0;bottom: 0;left: 50%;z-index: 0;}#sk-container-id-6 div.sk-serial {display: flex;flex-direction: column;align-items: center;background-color: white;padding-right: 0.2em;padding-left: 0.2em;position: relative;}#sk-container-id-6 div.sk-item {position: relative;z-index: 1;}#sk-container-id-6 div.sk-parallel {display: flex;align-items: stretch;justify-content: center;background-color: white;position: relative;}#sk-container-id-6 div.sk-item::before, #sk-container-id-6 div.sk-parallel-item::before {content: \"\";position: absolute;border-left: 1px solid gray;box-sizing: border-box;top: 0;bottom: 0;left: 50%;z-index: -1;}#sk-container-id-6 div.sk-parallel-item {display: flex;flex-direction: column;z-index: 1;position: relative;background-color: white;}#sk-container-id-6 div.sk-parallel-item:first-child::after {align-self: flex-end;width: 50%;}#sk-container-id-6 div.sk-parallel-item:last-child::after {align-self: flex-start;width: 50%;}#sk-container-id-6 div.sk-parallel-item:only-child::after {width: 0;}#sk-container-id-6 div.sk-dashed-wrapped {border: 1px dashed gray;margin: 0 0.4em 0.5em 0.4em;box-sizing: border-box;padding-bottom: 0.4em;background-color: white;}#sk-container-id-6 div.sk-label label {font-family: monospace;font-weight: bold;display: inline-block;line-height: 1.2em;}#sk-container-id-6 div.sk-label-container {text-align: center;}#sk-container-id-6 div.sk-container {/* jupyter's `normalize.less` sets `[hidden] { display: none; }` but bootstrap.min.css set `[hidden] { display: none !important; }` so we also need the `!important` here to be able to override the default hidden behavior on the sphinx rendered scikit-learn.org. See: https://github.com/scikit-learn/scikit-learn/issues/21755 */display: inline-block !important;position: relative;}#sk-container-id-6 div.sk-text-repr-fallback {display: none;}</style><div id=\"sk-container-id-6\" class=\"sk-top-container\"><div class=\"sk-text-repr-fallback\"><pre>SVC()</pre><b>In a Jupyter environment, please rerun this cell to show the HTML representation or trust the notebook. <br />On GitHub, the HTML representation is unable to render, please try loading this page with nbviewer.org.</b></div><div class=\"sk-container\" hidden><div class=\"sk-item\"><div class=\"sk-estimator sk-toggleable\"><input class=\"sk-toggleable__control sk-hidden--visually\" id=\"sk-estimator-id-6\" type=\"checkbox\" checked><label for=\"sk-estimator-id-6\" class=\"sk-toggleable__label sk-toggleable__label-arrow\">SVC</label><div class=\"sk-toggleable__content\"><pre>SVC()</pre></div></div></div></div></div>"
      ],
      "text/plain": [
       "SVC()"
      ]
     },
     "execution_count": 233,
     "metadata": {},
     "output_type": "execute_result"
    }
   ],
   "source": [
    "from sklearn import svm\n",
    "svm_model = svm.SVC()\n",
    "svm_model.fit(x_train_resample,y_train_resample)"
   ]
  },
  {
   "cell_type": "code",
   "execution_count": 234,
   "metadata": {},
   "outputs": [
    {
     "data": {
      "text/plain": [
       "0      Negative\n",
       "1       Neutral\n",
       "2      Positive\n",
       "3      Positive\n",
       "4       Neutral\n",
       "         ...   \n",
       "163    Positive\n",
       "164    Positive\n",
       "165    Positive\n",
       "166    Positive\n",
       "167    Positive\n",
       "Name: sentiments, Length: 168, dtype: object"
      ]
     },
     "execution_count": 234,
     "metadata": {},
     "output_type": "execute_result"
    }
   ],
   "source": [
    "y_train_resample"
   ]
  },
  {
   "cell_type": "markdown",
   "metadata": {},
   "source": [
    "#### Hyper parameter Tunnig"
   ]
  },
  {
   "cell_type": "code",
   "execution_count": 236,
   "metadata": {},
   "outputs": [
    {
     "name": "stdout",
     "output_type": "stream",
     "text": [
      "SVM accuracy =  0.37037037037037035\n",
      "SVM_accuracy(per%) = 37.04%\n"
     ]
    }
   ],
   "source": [
    "from sklearn.model_selection import GridSearchCV\n",
    "param_grid = {'C': [0.1, 1, 10], 'kernel': ['linear', 'rbf']}\n",
    "\n",
    "grid_search = GridSearchCV(svm_model,param_grid,cv=5)\n",
    "grid_search.fit(x_train_resample,y_train_resample)\n",
    "\n",
    "best_params = grid_search.best_params_\n",
    "svm_model_best = svm.SVC(**best_params)\n",
    "svm_model_best.fit(x_train_resample,y_train_resample)\n",
    "\n",
    "svm_y_best_pred = svm_model_best.predict(X_test_vectors)\n",
    "\n",
    "\n",
    "svm_best_accuracy = accuracy_score(Y_test,svm_y_best_pred)\n",
    "\n",
    "print(\"SVM accuracy = \",svm_best_accuracy)\n",
    "\n",
    "print(\"SVM_accuracy(per%) = \"+str(round(svm_best_accuracy*100,2))+\"%\")\n"
   ]
  },
  {
   "cell_type": "markdown",
   "metadata": {},
   "source": [
    "### Confusion Matrix"
   ]
  },
  {
   "cell_type": "code",
   "execution_count": 230,
   "metadata": {},
   "outputs": [
    {
     "data": {
      "image/png": "[encoded data removed]",
      "text/plain": [
       "<Figure size 800x600 with 1 Axes>"
      ]
     },
     "metadata": {},
     "output_type": "display_data"
    }
   ],
   "source": [
    "from sklearn.metrics import confusion_matrix\n",
    "import matplotlib.pyplot as plt \n",
    "import seaborn as sns\n",
    "cm = confusion_matrix(Y_test,y_pred)\n",
    "tn = cm[0, 0]  \n",
    "fp = cm[0, 1] \n",
    "fn = cm[1, 0]  \n",
    "tp = cm[1, 1] \n",
    "\n",
    "confusion_mat = [[tn, fp], [fn, tp]]\n",
    "\n",
    "plt.figure(figsize=(8,6))\n",
    "sns.heatmap(confusion_mat, annot=True, cmap='Blues', fmt='d', cbar=False)\n",
    "plt.xlabel('Predicted Labels')\n",
    "plt.ylabel('True Labels')\n",
    "plt.title('Confusion Matrix')\n",
    "plt.show()"
   ]
  },
  {
   "cell_type": "markdown",
   "metadata": {},
   "source": [
    "### Test this"
   ]
  },
  {
   "cell_type": "code",
   "execution_count": 231,
   "metadata": {},
   "outputs": [
    {
     "name": "stdout",
     "output_type": "stream",
     "text": [
      "So Sentiment of Test case =>  Negative\n"
     ]
    },
    {
     "data": {
      "text/plain": [
       "Negative    68\n",
       "Positive    35\n",
       "Neutral     29\n",
       "Name: sentiments, dtype: int64"
      ]
     },
     "execution_count": 231,
     "metadata": {},
     "output_type": "execute_result"
    }
   ],
   "source": [
    "New_news = ['Indian scientists develop capsules to curb crop burning']\n",
    "new_vectors = vectorizer.transform(New_news)\n",
    "prediction = model.predict(new_vectors)\n",
    "print(\"So Sentiment of Test case => \",prediction[0])\n",
    "df1['sentiments'].value_counts()"
   ]
  }
 ],
 "metadata": {
  "kernelspec": {
   "display_name": "Python 3 (ipykernel)",
   "language": "python",
   "name": "python3"
  },
  "language_info": {
   "codemirror_mode": {
    "name": "ipython",
    "version": 3
   },
   "file_extension": ".py",
   "mimetype": "text/x-python",
   "name": "python",
   "nbconvert_exporter": "python",
   "pygments_lexer": "ipython3",
   "version": "3.10.9"
  }
 },
 "nbformat": 4,
 "nbformat_minor": 2
}
